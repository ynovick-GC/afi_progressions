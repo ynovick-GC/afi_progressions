{
 "cells": [
  {
   "cell_type": "code",
   "execution_count": 12,
   "metadata": {
    "collapsed": true
   },
   "outputs": [],
   "source": [
    "# If jupyter kernel can't find these libraries, install them using the code in this cell\n",
    "# (hopefully this would only be necessary once on a given machine)\n",
    "#!{sys.executable} -m pip install networkx\n",
    "#!{sys.executable} -m pip install matplotlib\n",
    "#!{sys.executable} -m pip install statistics"
   ]
  },
  {
   "cell_type": "code",
   "execution_count": 13,
   "metadata": {
    "collapsed": true
   },
   "outputs": [],
   "source": [
    "# import statements and globals\n",
    "\n",
    "import networkx as nx\n",
    "import queue\n",
    "import math\n",
    "import functools as ft\n",
    "import matplotlib.pyplot as plt\n",
    "import statistics as stats\n",
    "from datetime import datetime\n",
    "\n",
    "# use this as the size of graphs in all experiments \n",
    "N = 128 \n",
    "\n",
    "# use these variables to specify how we will treat the fi/local assort. of a 0-degree vertex\n",
    "ZERO_DEG_FI = 1\n",
    "ZERO_DEG_LA = 0\n",
    "\n",
    "# use this variable to specify whether or not we should include 0-degree vertices in AFI\n",
    "EXCLUDE_ZERO_DEG = False \n"
   ]
  },
  {
   "cell_type": "code",
   "execution_count": 27,
   "metadata": {
    "collapsed": false
   },
   "outputs": [],
   "source": [
    "# will give numbers 0 .. n in \"bisecting\" order, for example: 0, 4, 2, 6, 1, 5, 3, 7\n",
    "def bisect_series(n):\n",
    "    if n < 2 or not ((n & (n - 1)) == 0): raise Exception('n must be a power of 2, (n is ' + str(n) + ')') #http://code.activestate.com/recipes/577514-chek-if-a-number-is-a-power-of-two/\n",
    "    yield 0\n",
    "    yield n//2\n",
    "    if not n > 2: return\n",
    "    q = queue.Queue()\n",
    "    q.put((n//4, 0, n//2)) # A tuple contains the next number to add, and the two numbers that were outside of it when added\n",
    "    while not q.empty():\n",
    "        t = q.get()\n",
    "        yield t[0]\n",
    "        yield (t[0] + n//2)%n\n",
    "        if t[0] - t[1] > 1:\n",
    "            q.put((((t[0] + t[1])//2), t[1], t[0]))\n",
    "            q.put((((t[0] + t[2])//2), t[0], t[2]))\n",
    "\n",
    "# wrapper for graph assortativity to avoid message in d-regular graph\n",
    "def assort(graph):\n",
    "    first_degree = graph.degree(list([v for v in graph.nodes() if graph.degree(v) > 0])[0])\n",
    "    if all(graph.degree(v) == first_degree or graph.degree(v) == 0 for v in list(graph.nodes())): return 1.0\n",
    "    return nx.degree_assortativity_coefficient(graph)\n",
    "\n",
    "def fi(graph, vertex):\n",
    "    if len(vertex) == 0: return ZERO_DEG_FI # zero degree vertex, predefined value\n",
    "    return ft.reduce(lambda x, y: x + y, [graph.degree(nbr) for nbr in vertex])/len(vertex)**2\n",
    "\n",
    "def vrtx_lst(graph):\n",
    "    return [graph[v] for v in graph.nodes() if len(graph[v]) > 0 or not EXCLUDE_ZERO_DEG]\n",
    "\n",
    "def afi(graph):\n",
    "    return sum(fi(graph, v) for v in vrtx_lst(graph))/len(vrtx_lst(graph))\n",
    "\n",
    "def gfi(graph):\n",
    "    return sum(math.log(fi(graph, v)) for v in vrtx_lst(graph))/len(vrtx_lst(graph))\n",
    "\n",
    "def gfi_norm(graph):\n",
    "    return gfi(graph)/math.log(len(vrtx_lst(graph)))\n",
    "\n",
    "def hfi(graph):\n",
    "    return len(vrtx_lst(graph))/sum(1/fi(graph, v) for v in vrtx_lst(graph))\n",
    "\n",
    "def tla_vector(graph):\n",
    "    r = assort(graph)\n",
    "    l = (r + 1)/len(vrtx_lst(graph))\n",
    "    d1_v = [None if len(v) == 0 else sum([abs(len(v) - graph.degree(nbr)) for nbr in v])/len(v)\n",
    "            for v in vrtx_lst(graph)]\n",
    "    s = sum(d1 for d1 in d1_v if not d1 is None)\n",
    "    d2_v = [None if d1 is None else d1 / s for d1 in d1_v]\n",
    "    d3_v = [ZERO_DEG_LA if d2 is None else l - d2 for d2 in d2_v]\n",
    "    return d3_v\n",
    "\n",
    "def pla_vector(graph):\n",
    "    endpoints = list(sum([(graph.degree(e[0]) - 1, graph.degree(e[1]) - 1) for e in graph.edges()], ()))\n",
    "    mu = stats.mean(endpoints)\n",
    "    denom = 2 * len(graph.edges()) * stats.pvariance(endpoints)\n",
    "    return [ZERO_DEG_LA if len(v) == 0 else ((len(v) - 1)*len(v)*(stats.mean([graph.degree(nbr) - 1 for nbr in v]) - mu))/denom \n",
    "            for v in vrtx_lst(graph)]\n"
   ]
  },
  {
   "cell_type": "code",
   "execution_count": 28,
   "metadata": {
    "collapsed": false
   },
   "outputs": [
    {
     "name": "stdout",
     "output_type": "stream",
     "text": [
      "[0, 1, 1, 0, 1, 2, 1, 2, 2, 2, 2, 1, 2, 1]\n",
      "g1 PLA: [-0.0, -0.375, -0.0, 0.2083333333333333, 0.04166666666666652, 0.04166666666666652, 0.2083333333333333]\n",
      "g1 TLA: [0.0028195488721805273, 0.0028195488721805273, 0.0028195488721805273, 0.0028195488721805273, 0.055451127819548959, 0.055451127819548959, 0.0028195488721805273]\n",
      "g2 PLA: [-0.04999999999999998, -0.13999999999999999, 0.04000000000000002, 0.12000000000000005, -0.2999999999999999, 0.12000000000000005, 0.13000000000000003]\n",
      "g2 TLA: [0.045714285714285707, 0.13142857142857142, -0.040000000000000008, 0.01714285714285714, -0.12571428571428575, 0.01714285714285714, -0.12571428571428575]\n"
     ]
    }
   ],
   "source": [
    "# Tests:\n",
    "# FILL IN TESTS\n",
    "\n",
    "g1 = nx.Graph()\n",
    "g1.add_edges_from([(1, 2), (2, 3), (4, 5), (4, 6), (5, 6), (5, 7), (6, 7)])\n",
    "print(list(sum([(g1.degree(e[0]) - 1, g1.degree(e[1]) - 1) for e in g1.edges()], ())))\n",
    "\n",
    "g2 = nx.Graph()\n",
    "g2.add_edges_from([(1, 2), (2, 3), (1, 4), (3, 5), (4, 5), (4, 6), (5, 6), (5, 7), (6, 7)])\n",
    "\n",
    "print('g1 PLA: ' + str(pla_vector(g1)))\n",
    "print('g1 TLA: ' + str(tla_vector(g1)))\n",
    "\n",
    "\n",
    "print('g2 PLA: ' + str(pla_vector(g2)))\n",
    "print('g2 TLA: ' + str(tla_vector(g2)))"
   ]
  },
  {
   "cell_type": "code",
   "execution_count": 29,
   "metadata": {
    "collapsed": false
   },
   "outputs": [
    {
     "data": {
      "text/plain": [
       "\"            \\ng1 = nx.Graph()\\ng1.add_edges_from([(1, 2), (2, 3), (4, 5), (4, 6), (5, 6), (5, 7), (6, 7)])\\ng2 = nx.Graph()\\ng2.add_edges_from([(1, 2), (2, 3), (1, 4), (3, 5), (4, 5), (4, 6), (5, 6), (5, 7), (6, 7)])\\n\\nprint('g1 PLA: ' + str(pla_vector(g1)))\\nprint('g1 TLA: ' + str(sorted(tla_vector(g1))))\\n\\nprint('g2 PLA: ' + str(sorted(pla_vector(g2))))\\nprint('g2 TLA: ' + str(sorted(tla_vector(g2))))\\n\\n\\ng = nx.Graph()\\nwith open(r'powergrid') as f:\\n    for l in f:\\n        if not l[0] == '%': g.add_edge(int(l.split()[0]), int(l.split()[1]))\\n\\n\\nprint ('assort: ' + str(assort(g)))\\nprint ('afi: ' + str(afi(g)))\\nprint ('gfi: ' + str(gfi(g)))\\nprint ('gfi_norm: ' + str(gfi_norm(g)))\\nprint ('hfi: ' + str(hfi(g)))\\n\\ng = nx.erdos_renyi_graph(20, 0.05, 0)\\nprint(g.edges())\\nprint(afi(g))\\nprint([fi(g, g[v]) for v in g])\\nprint(tla_vector(g))\\nprint(pla_vector(g))\\n\""
      ]
     },
     "execution_count": 29,
     "metadata": {},
     "output_type": "execute_result"
    }
   ],
   "source": [
    "         \n",
    "\"\"\"            \n",
    "g1 = nx.Graph()\n",
    "g1.add_edges_from([(1, 2), (2, 3), (4, 5), (4, 6), (5, 6), (5, 7), (6, 7)])\n",
    "g2 = nx.Graph()\n",
    "g2.add_edges_from([(1, 2), (2, 3), (1, 4), (3, 5), (4, 5), (4, 6), (5, 6), (5, 7), (6, 7)])\n",
    "\n",
    "print('g1 PLA: ' + str(pla_vector(g1)))\n",
    "print('g1 TLA: ' + str(sorted(tla_vector(g1))))\n",
    "\n",
    "print('g2 PLA: ' + str(sorted(pla_vector(g2))))\n",
    "print('g2 TLA: ' + str(sorted(tla_vector(g2))))\n",
    "\n",
    "\n",
    "g = nx.Graph()\n",
    "with open(r'powergrid') as f:\n",
    "    for l in f:\n",
    "        if not l[0] == '%': g.add_edge(int(l.split()[0]), int(l.split()[1]))\n",
    "\n",
    "\n",
    "print ('assort: ' + str(assort(g)))\n",
    "print ('afi: ' + str(afi(g)))\n",
    "print ('gfi: ' + str(gfi(g)))\n",
    "print ('gfi_norm: ' + str(gfi_norm(g)))\n",
    "print ('hfi: ' + str(hfi(g)))\n",
    "\n",
    "g = nx.erdos_renyi_graph(20, 0.05, 0)\n",
    "print(g.edges())\n",
    "print(afi(g))\n",
    "print([fi(g, g[v]) for v in g])\n",
    "print(tla_vector(g))\n",
    "print(pla_vector(g))\n",
    "\"\"\""
   ]
  },
  {
   "cell_type": "code",
   "execution_count": 30,
   "metadata": {
    "collapsed": false
   },
   "outputs": [
    {
     "data": {
      "image/png": "[encoded data removed]",
      "text/plain": [
       "<matplotlib.figure.Figure at 0x4ed9a90>"
      ]
     },
     "metadata": {},
     "output_type": "display_data"
    }
   ],
   "source": [
    "# This experiment will start with a cycle, then add \"diameters\", so it progresses from a 2-regular graph to a 3-regular graph\n",
    "g1 = nx.Graph()\n",
    "g2 = nx.Graph()\n",
    "\n",
    "for i in range(N):\n",
    "    g1.add_node(i)\n",
    "    g2.add_node(i)\n",
    "    \n",
    "for i in range(N):\n",
    "    g1.add_edge(i, (i+1)%N)\n",
    "    g2.add_edge(i, (i+1)%N)\n",
    "    \n",
    "afis1 = [afi(g1)]\n",
    "assorts1 = [assort(g1)]\n",
    "afis2 = [afi(g2)]\n",
    "assorts2 = [assort(g2)]\n",
    "\n",
    "for i in range(N//2):\n",
    "    g1.add_edge(i, i + N//2)\n",
    "    afis1.append(afi(g1))\n",
    "    assorts1.append(assort(g1))\n",
    "    \n",
    "for i in bisect_series(N//2):\n",
    "    if not i + N//2 in g2[i]:\n",
    "        g2.add_edge(i, i + N//2)\n",
    "        afis2.append(afi(g2))\n",
    "        assorts2.append(assort(g2))\n",
    "\n",
    "plt.figure(figsize=(14, 5))\n",
    "        \n",
    "plt.subplot(1, 2, 1)\n",
    "plt.title('Adding Edges - AFI')\n",
    "plt.plot(afis1, 'r--', label='Added in order')\n",
    "plt.plot(afis2, 'bs', label='Added in bisecting order')\n",
    "plt.ylabel('AFI')\n",
    "plt.legend()\n",
    "\n",
    "plt.subplot(1, 2, 2)\n",
    "plt.title('Adding Edges - Assortativity')\n",
    "plt.plot(assorts1, 'r--', label='Added in order')\n",
    "plt.plot(assorts2, 'bs', label='Added in bisecting order')\n",
    "plt.ylabel('Assortativity')\n",
    "plt.legend()\n",
    "\n",
    "plt.show()\n"
   ]
  },
  {
   "cell_type": "code",
   "execution_count": 34,
   "metadata": {
    "collapsed": false
   },
   "outputs": [
    {
     "name": "stdout",
     "output_type": "stream",
     "text": [
      "[1.0191880724478735, 1.0195914003500275, 1.0186212574468845, 1.018790854075641, 1.01926754724251, 1.0183656778656769, 1.0192293127504508, 1.0185628097413153, 1.0200453740810167, 1.0183263463417327, 1.0184989155445532, 1.0175128927644888, 1.017719515885674, 1.0172856030035828, 1.0180926734864075, 1.0188262784108124, 1.019023727705975, 1.017949040507353, 1.0185258912465327, 1.0175936066271338]\n",
      "0:00:00.482028\n",
      "[1.0174324771736625, 1.0179037430069628, 1.019294279354764, 1.0191672480752043, 1.0182562124916565, 1.0192766943548892, 1.0181738995070662, 1.0176247897635042, 1.0183304551719892, 1.017362619353253, 1.0184852755402838, 1.016094284033979, 1.018473446399507, 1.0181903626006976, 1.019113385131052, 1.0190485483169935, 1.0181592747975794, 1.0177983654089782, 1.019388425498489, 1.0176627400280993, 1.0196280438568217, 1.0183462683365978, 1.01958708812102, 1.0192146769164727, 1.0180572007287576, 1.01697506292483, 1.0189562491052893, 1.017381106220276, 1.0176922665060533, 1.0176089846072047, 1.018346058789311, 1.0195936143423283, 1.018846935521903, 1.018998408890053, 1.0166929824553284, 1.019902443386379, 1.0170905395854948, 1.0185654038407244, 1.017389728120387, 1.0175071716684618, 1.0191607446014406, 1.0175194555145712, 1.018713741620436, 1.0177848237596154, 1.0189166457165748, 1.0175524187438778, 1.0168968083852088, 1.0174532745958584, 1.0176767867753922, 1.0179542320199377]\n",
      "0:00:17.243986\n"
     ]
    }
   ],
   "source": [
    "# Experiment with mulitthreading\n",
    "import multiprocessing\n",
    "\n",
    "\n",
    "    \n",
    "starttime = datetime.now()\n",
    "jobs = []\n",
    "\n",
    "def f():\n",
    "    g = nx.erdos_renyi_graph(1000, 0.1)\n",
    "    afis.append(afi(g))\n",
    "\n",
    "for i in range(0, 50):\n",
    "    process = multiprocessing.Process(target = f)\n",
    "    jobs.append(process)\n",
    "    \n",
    "for j in jobs:\n",
    "    j.start()\n",
    "\n",
    "for j in jobs:\n",
    "    j.join()\n",
    "    \n",
    "print(afis)\n",
    "print (datetime.now() - starttime)   \n",
    "\n",
    "\n",
    "\n",
    "starttime = datetime.now()\n",
    "\n",
    "afis = []\n",
    "for i in range(0, 50):\n",
    "    g = nx.erdos_renyi_graph(1000, 0.1)\n",
    "    afis.append(afi(g))\n",
    "\n",
    "print(afis)\n",
    "print (datetime.now() - starttime)"
   ]
  },
  {
   "cell_type": "code",
   "execution_count": null,
   "metadata": {
    "collapsed": true
   },
   "outputs": [],
   "source": []
  },
  {
   "cell_type": "code",
   "execution_count": null,
   "metadata": {
    "collapsed": true
   },
   "outputs": [],
   "source": []
  },
  {
   "cell_type": "code",
   "execution_count": null,
   "metadata": {
    "collapsed": true
   },
   "outputs": [],
   "source": []
  }
 ],
 "metadata": {
  "kernelspec": {
   "display_name": "Python 3",
   "language": "python",
   "name": "python3"
  },
  "language_info": {
   "codemirror_mode": {
    "name": "ipython",
    "version": 3
   },
   "file_extension": ".py",
   "mimetype": "text/x-python",
   "name": "python",
   "nbconvert_exporter": "python",
   "pygments_lexer": "ipython3",
   "version": "3.6.0"
  }
 },
 "nbformat": 4,
 "nbformat_minor": 2
}
